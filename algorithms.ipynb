{
 "cells": [
  {
   "cell_type": "markdown",
   "id": "988d9437-2238-4676-aa4e-ee162a1b813a",
   "metadata": {},
   "source": [
    "# Бинарный поиск O(log n)"
   ]
  },
  {
   "cell_type": "code",
   "execution_count": 127,
   "id": "73811778-2b69-4c6d-898f-7ea6b4c3a760",
   "metadata": {},
   "outputs": [],
   "source": [
    "def binary_search(lst, item):\n",
    "    low = 0\n",
    "    high = len(lst) - 1 ##-1 из-за старта индекса с нуля\n",
    "\n",
    "    while low <= high:\n",
    "        mid = (low + high) // 2\n",
    "        guess = lst[mid]\n",
    "\n",
    "        if guess == item:\n",
    "            return guess\n",
    "        elif guess > item:\n",
    "            high = mid - 1\n",
    "        else:\n",
    "            low = mid + 1\n",
    "    \n",
    "    return None ##возвращаем если прошли весь список и не нашли"
   ]
  },
  {
   "cell_type": "code",
   "execution_count": 128,
   "id": "78f912e5-3f5e-4460-aed2-fa9df4d6a252",
   "metadata": {},
   "outputs": [],
   "source": [
    "my_list = [1,2,3,4,5] ##массив обязательно отсортирован"
   ]
  },
  {
   "cell_type": "code",
   "execution_count": 129,
   "id": "aaa2edd4-bb1f-4852-937f-b017f4bb941f",
   "metadata": {},
   "outputs": [
    {
     "data": {
      "text/plain": [
       "3"
      ]
     },
     "execution_count": 129,
     "metadata": {},
     "output_type": "execute_result"
    }
   ],
   "source": [
    "binary_search(my_list, 3)"
   ]
  },
  {
   "cell_type": "markdown",
   "id": "0aa76f29-007e-4472-af05-241c0325003e",
   "metadata": {},
   "source": [
    "# Сортировка выбором O(n^2)"
   ]
  },
  {
   "cell_type": "code",
   "execution_count": 125,
   "id": "90c89971-b9d1-429b-b7e6-7c4597ddcff5",
   "metadata": {},
   "outputs": [
    {
     "name": "stdout",
     "output_type": "stream",
     "text": [
      "The history saving thread hit an unexpected error (OperationalError('attempt to write a readonly database')).History will not be written to the database.\n"
     ]
    }
   ],
   "source": [
    "def find_target(lst, reverse=False):\n",
    "    target = lst[0]\n",
    "    idx = 0\n",
    "    for i in range(1, len(lst)):\n",
    "        if (lst[i] < target) != reverse: ## сравниваем с таргет значением и проверяем условие True/False чтобы гибко искать минимум/максимум\n",
    "            target = lst[i]\n",
    "            idx = i\n",
    "    return idx\n",
    "    \n",
    "\n",
    "def selection_sort(lst, reverse=False):\n",
    "    # lst = lst.copy()\n",
    "    result = []\n",
    "    for i in range(len(lst)):\n",
    "        target = find_target(lst, reverse=reverse)\n",
    "        result.append(lst[target])\n",
    "        lst[target] = lst[-1] ##заменяем таргет элемент на последний в списке, возникает дубль. \n",
    "                            ##Быстрее, чем просто pop из середины, тк не надо сдвигать массив\n",
    "        lst.pop() ##удаляем последний элемент (дубль)\n",
    "    return result"
   ]
  },
  {
   "cell_type": "code",
   "execution_count": 126,
   "id": "b03a8bfc-0f55-4ddf-a65d-a7d8bcc23bbb",
   "metadata": {},
   "outputs": [
    {
     "data": {
      "text/plain": [
       "[1, 4, 6, 7, 9, 10]"
      ]
     },
     "execution_count": 126,
     "metadata": {},
     "output_type": "execute_result"
    }
   ],
   "source": [
    "selection_sort([1,9,6,4,10,7], reverse=False)"
   ]
  },
  {
   "cell_type": "markdown",
   "id": "80cca506-25a6-40c5-8df9-04375064639f",
   "metadata": {},
   "source": [
    "# Рекурсия"
   ]
  },
  {
   "cell_type": "code",
   "execution_count": 30,
   "id": "1d82cdd9-ac1a-4360-a576-65f23aa8c90a",
   "metadata": {},
   "outputs": [],
   "source": [
    "def sum_(arr):\n",
    "    if not arr:\n",
    "        return 0\n",
    "    else:\n",
    "        return arr[0] + sum_(arr[1:])"
   ]
  },
  {
   "cell_type": "code",
   "execution_count": 82,
   "id": "62f54a51-782b-459d-824e-9be6ac024b54",
   "metadata": {},
   "outputs": [],
   "source": [
    "arr = [1,2,3,4,6,7]"
   ]
  },
  {
   "cell_type": "code",
   "execution_count": 83,
   "id": "37b161b3-192a-4045-9fb5-23e0af08e9c6",
   "metadata": {},
   "outputs": [
    {
     "data": {
      "text/plain": [
       "23"
      ]
     },
     "execution_count": 83,
     "metadata": {},
     "output_type": "execute_result"
    }
   ],
   "source": [
    "sum_(arr)"
   ]
  },
  {
   "cell_type": "code",
   "execution_count": 84,
   "id": "7bebb124-387a-4c9a-87f4-dce86c939456",
   "metadata": {},
   "outputs": [],
   "source": [
    "def count_(arr):\n",
    "    if not arr:\n",
    "        return 0\n",
    "    else:\n",
    "        return 1 + count_(arr[1:])"
   ]
  },
  {
   "cell_type": "code",
   "execution_count": 85,
   "id": "53979ad1-e139-4dce-abd6-f2464f229d0b",
   "metadata": {},
   "outputs": [
    {
     "data": {
      "text/plain": [
       "6"
      ]
     },
     "execution_count": 85,
     "metadata": {},
     "output_type": "execute_result"
    }
   ],
   "source": [
    "count_(arr)"
   ]
  },
  {
   "cell_type": "code",
   "execution_count": 86,
   "id": "528414a1-6949-4cbb-994b-60cd832ebb44",
   "metadata": {},
   "outputs": [],
   "source": [
    "def max_(arr):\n",
    "    if len(arr) == 1:\n",
    "        return arr[0]\n",
    "    else:\n",
    "        return max_(arr[1:]) if max_(arr[1:]) > arr[0] else arr[0]"
   ]
  },
  {
   "cell_type": "code",
   "execution_count": 87,
   "id": "359322a6-3fd6-4b10-b17d-1d4b36084f00",
   "metadata": {},
   "outputs": [
    {
     "data": {
      "text/plain": [
       "7"
      ]
     },
     "execution_count": 87,
     "metadata": {},
     "output_type": "execute_result"
    }
   ],
   "source": [
    "max_(arr)"
   ]
  },
  {
   "cell_type": "code",
   "execution_count": 94,
   "id": "9fd6be36-66e1-4089-9bb8-8c35a215c183",
   "metadata": {},
   "outputs": [],
   "source": [
    "def binary_s(arr, n, low=0, high=None):\n",
    "    if high is None:\n",
    "        high = len(arr) - 1\n",
    "    \n",
    "    if low > high:\n",
    "        return -1 ##not found\n",
    "    \n",
    "    mid = (low + high) // 2\n",
    "    \n",
    "    if arr[mid] == n:\n",
    "        return mid\n",
    "    elif arr[mid] > n:\n",
    "        return binary_s(arr, n, low, mid - 1)\n",
    "    else:\n",
    "        return binary_s(arr, n, mid + 1, high)"
   ]
  },
  {
   "cell_type": "code",
   "execution_count": 96,
   "id": "9031002a-1cf6-467a-9013-3280e2ed796c",
   "metadata": {},
   "outputs": [
    {
     "data": {
      "text/plain": [
       "5"
      ]
     },
     "execution_count": 96,
     "metadata": {},
     "output_type": "execute_result"
    }
   ],
   "source": [
    "binary_s(arr, 7)"
   ]
  },
  {
   "cell_type": "markdown",
   "id": "441115ad-55c7-47fd-af62-0625a09fa096",
   "metadata": {},
   "source": [
    "# Быстрая сортировка O (n log n)"
   ]
  },
  {
   "cell_type": "code",
   "execution_count": 123,
   "id": "ba4aac9a-e1ce-4a86-a4a2-b6d7eaa4a305",
   "metadata": {},
   "outputs": [],
   "source": [
    "def quick_sort(arr):\n",
    "    if len(arr) < 2:\n",
    "        return arr ##базовый случай, тк пустой массив или 1 элемент сортировать вообще не нужно\n",
    "    else:\n",
    "        pivot = arr[len(arr) // 2]\n",
    "        rest = arr[:len(arr) // 2] + arr[len(arr) // 2 + 1:]\n",
    "\n",
    "        less = [x for x in rest if x <= pivot]\n",
    "        greater = [x for x in rest if x > pivot]\n",
    "\n",
    "        return quick_sort(less) + [pivot] + quick_sort(greater)"
   ]
  },
  {
   "cell_type": "code",
   "execution_count": 124,
   "id": "2e350a04-d1e1-4449-b9c1-f91cbe2c8867",
   "metadata": {},
   "outputs": [
    {
     "data": {
      "text/plain": [
       "[4, 5, 6, 7, 8, 9]"
      ]
     },
     "execution_count": 124,
     "metadata": {},
     "output_type": "execute_result"
    }
   ],
   "source": [
    "quick_sort([9,8,7,4,5,6])"
   ]
  },
  {
   "cell_type": "code",
   "execution_count": 118,
   "id": "b8d4e619-8b7e-4f8e-92e3-2fcc93735a0b",
   "metadata": {},
   "outputs": [
    {
     "data": {
      "text/plain": [
       "3"
      ]
     },
     "execution_count": 118,
     "metadata": {},
     "output_type": "execute_result"
    }
   ],
   "source": [
    "len(arr) // 2"
   ]
  },
  {
   "cell_type": "markdown",
   "id": "23e2b5f8-dc4d-499b-a965-7e10a1434562",
   "metadata": {},
   "source": [
    "# Сортировка слиянием O (n log n)"
   ]
  },
  {
   "cell_type": "code",
   "execution_count": 133,
   "id": "c87bb6dc-48ec-41ff-8165-c619b5766b9d",
   "metadata": {},
   "outputs": [],
   "source": [
    "def merge_sort(arr):\n",
    "    if len(arr) < 2:\n",
    "        return arr ##базовый случай, массив отстортирован\n",
    "\n",
    "    mid = len(arr) // 2 ##Здесь каждый раз бъем на 2 части, поэтому O(log n)\n",
    "    left = merge_sort(arr[:mid])\n",
    "    right = merge_sort(arr[mid:])\n",
    "\n",
    "    return merge(left, right) #сливаем отсортированные массивы\n",
    "\n",
    "def merge(left, right): #здесь обходим все элементы, поэтому O(n)\n",
    "    result = []\n",
    "    i = j = 0\n",
    "\n",
    "    while i < len(left) and j < len(right):\n",
    "        if left[i] <= right[j]:\n",
    "            result.append(left[i])\n",
    "            i += 1\n",
    "        else:\n",
    "            result.append(right[j])\n",
    "            j += 1\n",
    "    result += left[i:]\n",
    "    result += right[j:]\n",
    "\n",
    "    return result"
   ]
  },
  {
   "cell_type": "code",
   "execution_count": 134,
   "id": "12523f77-6b5b-4849-b6ba-d36233d6efa4",
   "metadata": {},
   "outputs": [
    {
     "data": {
      "text/plain": [
       "[4, 5, 6, 7, 8, 9]"
      ]
     },
     "execution_count": 134,
     "metadata": {},
     "output_type": "execute_result"
    }
   ],
   "source": [
    "merge_sort([9,8,7,6,5,4])"
   ]
  },
  {
   "cell_type": "code",
   "execution_count": null,
   "id": "1bb7abc4-5a6d-4732-8311-12d89bf76630",
   "metadata": {},
   "outputs": [],
   "source": []
  }
 ],
 "metadata": {
  "kernelspec": {
   "display_name": "jupyter_project_env",
   "language": "python",
   "name": "jupyter_project_env"
  },
  "language_info": {
   "codemirror_mode": {
    "name": "ipython",
    "version": 3
   },
   "file_extension": ".py",
   "mimetype": "text/x-python",
   "name": "python",
   "nbconvert_exporter": "python",
   "pygments_lexer": "ipython3",
   "version": "3.9.6"
  }
 },
 "nbformat": 4,
 "nbformat_minor": 5
}
